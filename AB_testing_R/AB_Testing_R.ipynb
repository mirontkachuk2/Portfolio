{
 "cells": [
  {
   "cell_type": "code",
   "execution_count": 323,
   "id": "a4f058fd",
   "metadata": {},
   "outputs": [],
   "source": [
    "#importing libraries\n",
    "library(ggplot2)\n",
    "library(dplyr)\n",
    "library(forcats)\n",
    "library(boot)\n",
    "options(digits=8)\n",
    "set.seed(42)"
   ]
  },
  {
   "cell_type": "code",
   "execution_count": 324,
   "id": "872218a5",
   "metadata": {},
   "outputs": [
    {
     "data": {
      "text/html": [
       "<table class=\"dataframe\">\n",
       "<caption>A data.frame: 6 × 7</caption>\n",
       "<thead>\n",
       "\t<tr><th></th><th scope=col>X</th><th scope=col>user.id</th><th scope=col>test.group</th><th scope=col>converted</th><th scope=col>total.ads</th><th scope=col>most.ads.day</th><th scope=col>most.ads.hour</th></tr>\n",
       "\t<tr><th></th><th scope=col>&lt;int&gt;</th><th scope=col>&lt;int&gt;</th><th scope=col>&lt;chr&gt;</th><th scope=col>&lt;chr&gt;</th><th scope=col>&lt;int&gt;</th><th scope=col>&lt;chr&gt;</th><th scope=col>&lt;int&gt;</th></tr>\n",
       "</thead>\n",
       "<tbody>\n",
       "\t<tr><th scope=row>1</th><td>0</td><td>1069124</td><td>ad</td><td>False</td><td>130</td><td>Monday  </td><td>20</td></tr>\n",
       "\t<tr><th scope=row>2</th><td>1</td><td>1119715</td><td>ad</td><td>False</td><td> 93</td><td>Tuesday </td><td>22</td></tr>\n",
       "\t<tr><th scope=row>3</th><td>2</td><td>1144181</td><td>ad</td><td>False</td><td> 21</td><td>Tuesday </td><td>18</td></tr>\n",
       "\t<tr><th scope=row>4</th><td>3</td><td>1435133</td><td>ad</td><td>False</td><td>355</td><td>Tuesday </td><td>10</td></tr>\n",
       "\t<tr><th scope=row>5</th><td>4</td><td>1015700</td><td>ad</td><td>False</td><td>276</td><td>Friday  </td><td>14</td></tr>\n",
       "\t<tr><th scope=row>6</th><td>5</td><td>1137664</td><td>ad</td><td>False</td><td>734</td><td>Saturday</td><td>10</td></tr>\n",
       "</tbody>\n",
       "</table>\n"
      ],
      "text/latex": [
       "A data.frame: 6 × 7\n",
       "\\begin{tabular}{r|lllllll}\n",
       "  & X & user.id & test.group & converted & total.ads & most.ads.day & most.ads.hour\\\\\n",
       "  & <int> & <int> & <chr> & <chr> & <int> & <chr> & <int>\\\\\n",
       "\\hline\n",
       "\t1 & 0 & 1069124 & ad & False & 130 & Monday   & 20\\\\\n",
       "\t2 & 1 & 1119715 & ad & False &  93 & Tuesday  & 22\\\\\n",
       "\t3 & 2 & 1144181 & ad & False &  21 & Tuesday  & 18\\\\\n",
       "\t4 & 3 & 1435133 & ad & False & 355 & Tuesday  & 10\\\\\n",
       "\t5 & 4 & 1015700 & ad & False & 276 & Friday   & 14\\\\\n",
       "\t6 & 5 & 1137664 & ad & False & 734 & Saturday & 10\\\\\n",
       "\\end{tabular}\n"
      ],
      "text/markdown": [
       "\n",
       "A data.frame: 6 × 7\n",
       "\n",
       "| <!--/--> | X &lt;int&gt; | user.id &lt;int&gt; | test.group &lt;chr&gt; | converted &lt;chr&gt; | total.ads &lt;int&gt; | most.ads.day &lt;chr&gt; | most.ads.hour &lt;int&gt; |\n",
       "|---|---|---|---|---|---|---|---|\n",
       "| 1 | 0 | 1069124 | ad | False | 130 | Monday   | 20 |\n",
       "| 2 | 1 | 1119715 | ad | False |  93 | Tuesday  | 22 |\n",
       "| 3 | 2 | 1144181 | ad | False |  21 | Tuesday  | 18 |\n",
       "| 4 | 3 | 1435133 | ad | False | 355 | Tuesday  | 10 |\n",
       "| 5 | 4 | 1015700 | ad | False | 276 | Friday   | 14 |\n",
       "| 6 | 5 | 1137664 | ad | False | 734 | Saturday | 10 |\n",
       "\n"
      ],
      "text/plain": [
       "  X user.id test.group converted total.ads most.ads.day most.ads.hour\n",
       "1 0 1069124 ad         False     130       Monday       20           \n",
       "2 1 1119715 ad         False      93       Tuesday      22           \n",
       "3 2 1144181 ad         False      21       Tuesday      18           \n",
       "4 3 1435133 ad         False     355       Tuesday      10           \n",
       "5 4 1015700 ad         False     276       Friday       14           \n",
       "6 5 1137664 ad         False     734       Saturday     10           "
      ]
     },
     "metadata": {},
     "output_type": "display_data"
    }
   ],
   "source": [
    "#quick look at data structure\n",
    "data = read.csv('marketing_AB.csv')\n",
    "head(data)"
   ]
  },
  {
   "cell_type": "code",
   "execution_count": 325,
   "id": "7d897460",
   "metadata": {},
   "outputs": [
    {
     "data": {
      "text/html": [
       "<table class=\"dataframe\">\n",
       "<caption>A data.frame: 0 × 2</caption>\n",
       "<thead>\n",
       "\t<tr><th scope=col>Var1</th><th scope=col>Freq</th></tr>\n",
       "\t<tr><th scope=col>&lt;fct&gt;</th><th scope=col>&lt;int&gt;</th></tr>\n",
       "</thead>\n",
       "<tbody>\n",
       "</tbody>\n",
       "</table>\n"
      ],
      "text/latex": [
       "A data.frame: 0 × 2\n",
       "\\begin{tabular}{ll}\n",
       " Var1 & Freq\\\\\n",
       " <fct> & <int>\\\\\n",
       "\\hline\n",
       "\\end{tabular}\n"
      ],
      "text/markdown": [
       "\n",
       "A data.frame: 0 × 2\n",
       "\n",
       "| Var1 &lt;fct&gt; | Freq &lt;int&gt; |\n",
       "|---|---|\n",
       "\n"
      ],
      "text/plain": [
       "     Var1 Freq"
      ]
     },
     "metadata": {},
     "output_type": "display_data"
    }
   ],
   "source": [
    "#check for dublicates\n",
    "n_occur <- data.frame(table(data$user.id))\n",
    "n_occur[n_occur$Freq > 1,]"
   ]
  },
  {
   "cell_type": "code",
   "execution_count": 326,
   "id": "fefb5dc4",
   "metadata": {},
   "outputs": [
    {
     "data": {
      "text/html": [
       "0"
      ],
      "text/latex": [
       "0"
      ],
      "text/markdown": [
       "0"
      ],
      "text/plain": [
       "[1] 0"
      ]
     },
     "metadata": {},
     "output_type": "display_data"
    }
   ],
   "source": [
    "#check for null values\n",
    "sum(is.na(data))"
   ]
  },
  {
   "cell_type": "code",
   "execution_count": 327,
   "id": "e036e7cf",
   "metadata": {},
   "outputs": [
    {
     "data": {
      "text/html": [
       "<table class=\"dataframe\">\n",
       "<caption>A tibble: 2 × 3</caption>\n",
       "<thead>\n",
       "\t<tr><th scope=col>test.group</th><th scope=col>n</th><th scope=col>freq</th></tr>\n",
       "\t<tr><th scope=col>&lt;chr&gt;</th><th scope=col>&lt;int&gt;</th><th scope=col>&lt;dbl&gt;</th></tr>\n",
       "</thead>\n",
       "<tbody>\n",
       "\t<tr><td>ad </td><td>564577</td><td>0.960000068</td></tr>\n",
       "\t<tr><td>psa</td><td> 23524</td><td>0.039999932</td></tr>\n",
       "</tbody>\n",
       "</table>\n"
      ],
      "text/latex": [
       "A tibble: 2 × 3\n",
       "\\begin{tabular}{lll}\n",
       " test.group & n & freq\\\\\n",
       " <chr> & <int> & <dbl>\\\\\n",
       "\\hline\n",
       "\t ad  & 564577 & 0.960000068\\\\\n",
       "\t psa &  23524 & 0.039999932\\\\\n",
       "\\end{tabular}\n"
      ],
      "text/markdown": [
       "\n",
       "A tibble: 2 × 3\n",
       "\n",
       "| test.group &lt;chr&gt; | n &lt;int&gt; | freq &lt;dbl&gt; |\n",
       "|---|---|---|\n",
       "| ad  | 564577 | 0.960000068 |\n",
       "| psa |  23524 | 0.039999932 |\n",
       "\n"
      ],
      "text/plain": [
       "  test.group n      freq       \n",
       "1 ad         564577 0.960000068\n",
       "2 psa         23524 0.039999932"
      ]
     },
     "metadata": {},
     "output_type": "display_data"
    }
   ],
   "source": [
    "#distribution of test groups\n",
    "data %>% group_by(test.group) %>%\n",
    "         summarise(n = n()) %>%\n",
    "         mutate(freq = n / sum(n))"
   ]
  },
  {
   "cell_type": "code",
   "execution_count": 328,
   "id": "bde5a13e",
   "metadata": {},
   "outputs": [
    {
     "data": {
      "text/html": [
       "<table class=\"dataframe\">\n",
       "<caption>A data.frame: 6 × 7</caption>\n",
       "<thead>\n",
       "\t<tr><th></th><th scope=col>X</th><th scope=col>user.id</th><th scope=col>test.group</th><th scope=col>converted</th><th scope=col>total.ads</th><th scope=col>most.ads.day</th><th scope=col>most.ads.hour</th></tr>\n",
       "\t<tr><th></th><th scope=col>&lt;int&gt;</th><th scope=col>&lt;int&gt;</th><th scope=col>&lt;chr&gt;</th><th scope=col>&lt;chr&gt;</th><th scope=col>&lt;int&gt;</th><th scope=col>&lt;chr&gt;</th><th scope=col>&lt;int&gt;</th></tr>\n",
       "</thead>\n",
       "<tbody>\n",
       "\t<tr><th scope=row>1</th><td>0</td><td>1069124</td><td>ad</td><td>False</td><td>130</td><td>Monday  </td><td>20</td></tr>\n",
       "\t<tr><th scope=row>2</th><td>1</td><td>1119715</td><td>ad</td><td>False</td><td> 93</td><td>Tuesday </td><td>22</td></tr>\n",
       "\t<tr><th scope=row>3</th><td>2</td><td>1144181</td><td>ad</td><td>False</td><td> 21</td><td>Tuesday </td><td>18</td></tr>\n",
       "\t<tr><th scope=row>4</th><td>3</td><td>1435133</td><td>ad</td><td>False</td><td>355</td><td>Tuesday </td><td>10</td></tr>\n",
       "\t<tr><th scope=row>5</th><td>4</td><td>1015700</td><td>ad</td><td>False</td><td>276</td><td>Friday  </td><td>14</td></tr>\n",
       "\t<tr><th scope=row>6</th><td>5</td><td>1137664</td><td>ad</td><td>False</td><td>734</td><td>Saturday</td><td>10</td></tr>\n",
       "</tbody>\n",
       "</table>\n"
      ],
      "text/latex": [
       "A data.frame: 6 × 7\n",
       "\\begin{tabular}{r|lllllll}\n",
       "  & X & user.id & test.group & converted & total.ads & most.ads.day & most.ads.hour\\\\\n",
       "  & <int> & <int> & <chr> & <chr> & <int> & <chr> & <int>\\\\\n",
       "\\hline\n",
       "\t1 & 0 & 1069124 & ad & False & 130 & Monday   & 20\\\\\n",
       "\t2 & 1 & 1119715 & ad & False &  93 & Tuesday  & 22\\\\\n",
       "\t3 & 2 & 1144181 & ad & False &  21 & Tuesday  & 18\\\\\n",
       "\t4 & 3 & 1435133 & ad & False & 355 & Tuesday  & 10\\\\\n",
       "\t5 & 4 & 1015700 & ad & False & 276 & Friday   & 14\\\\\n",
       "\t6 & 5 & 1137664 & ad & False & 734 & Saturday & 10\\\\\n",
       "\\end{tabular}\n"
      ],
      "text/markdown": [
       "\n",
       "A data.frame: 6 × 7\n",
       "\n",
       "| <!--/--> | X &lt;int&gt; | user.id &lt;int&gt; | test.group &lt;chr&gt; | converted &lt;chr&gt; | total.ads &lt;int&gt; | most.ads.day &lt;chr&gt; | most.ads.hour &lt;int&gt; |\n",
       "|---|---|---|---|---|---|---|---|\n",
       "| 1 | 0 | 1069124 | ad | False | 130 | Monday   | 20 |\n",
       "| 2 | 1 | 1119715 | ad | False |  93 | Tuesday  | 22 |\n",
       "| 3 | 2 | 1144181 | ad | False |  21 | Tuesday  | 18 |\n",
       "| 4 | 3 | 1435133 | ad | False | 355 | Tuesday  | 10 |\n",
       "| 5 | 4 | 1015700 | ad | False | 276 | Friday   | 14 |\n",
       "| 6 | 5 | 1137664 | ad | False | 734 | Saturday | 10 |\n",
       "\n"
      ],
      "text/plain": [
       "  X user.id test.group converted total.ads most.ads.day most.ads.hour\n",
       "1 0 1069124 ad         False     130       Monday       20           \n",
       "2 1 1119715 ad         False      93       Tuesday      22           \n",
       "3 2 1144181 ad         False      21       Tuesday      18           \n",
       "4 3 1435133 ad         False     355       Tuesday      10           \n",
       "5 4 1015700 ad         False     276       Friday       14           \n",
       "6 5 1137664 ad         False     734       Saturday     10           "
      ]
     },
     "metadata": {},
     "output_type": "display_data"
    }
   ],
   "source": [
    "#splitting into test and control group\n",
    "indexes_treatment = which(data['test.group'] == 'ad')\n",
    "treatment_group <- data[indexes_treatment, ]\n",
    "head(treatment_group)"
   ]
  },
  {
   "cell_type": "code",
   "execution_count": 329,
   "id": "d949563f",
   "metadata": {},
   "outputs": [
    {
     "data": {
      "text/html": [
       "<table class=\"dataframe\">\n",
       "<caption>A data.frame: 6 × 7</caption>\n",
       "<thead>\n",
       "\t<tr><th></th><th scope=col>X</th><th scope=col>user.id</th><th scope=col>test.group</th><th scope=col>converted</th><th scope=col>total.ads</th><th scope=col>most.ads.day</th><th scope=col>most.ads.hour</th></tr>\n",
       "\t<tr><th></th><th scope=col>&lt;int&gt;</th><th scope=col>&lt;int&gt;</th><th scope=col>&lt;chr&gt;</th><th scope=col>&lt;chr&gt;</th><th scope=col>&lt;int&gt;</th><th scope=col>&lt;chr&gt;</th><th scope=col>&lt;int&gt;</th></tr>\n",
       "</thead>\n",
       "<tbody>\n",
       "\t<tr><th scope=row>19</th><td> 18</td><td>900681</td><td>psa</td><td>False</td><td>248</td><td>Saturday </td><td>19</td></tr>\n",
       "\t<tr><th scope=row>39</th><td> 38</td><td>905704</td><td>psa</td><td>False</td><td> 27</td><td>Thursday </td><td> 8</td></tr>\n",
       "\t<tr><th scope=row>69</th><td> 68</td><td>904595</td><td>psa</td><td>False</td><td> 13</td><td>Tuesday  </td><td>19</td></tr>\n",
       "\t<tr><th scope=row>141</th><td>140</td><td>901904</td><td>psa</td><td>False</td><td> 32</td><td>Wednesday</td><td>19</td></tr>\n",
       "\t<tr><th scope=row>158</th><td>157</td><td>902234</td><td>psa</td><td>False</td><td>105</td><td>Tuesday  </td><td>19</td></tr>\n",
       "\t<tr><th scope=row>168</th><td>167</td><td>906079</td><td>psa</td><td>False</td><td> 37</td><td>Monday   </td><td>10</td></tr>\n",
       "</tbody>\n",
       "</table>\n"
      ],
      "text/latex": [
       "A data.frame: 6 × 7\n",
       "\\begin{tabular}{r|lllllll}\n",
       "  & X & user.id & test.group & converted & total.ads & most.ads.day & most.ads.hour\\\\\n",
       "  & <int> & <int> & <chr> & <chr> & <int> & <chr> & <int>\\\\\n",
       "\\hline\n",
       "\t19 &  18 & 900681 & psa & False & 248 & Saturday  & 19\\\\\n",
       "\t39 &  38 & 905704 & psa & False &  27 & Thursday  &  8\\\\\n",
       "\t69 &  68 & 904595 & psa & False &  13 & Tuesday   & 19\\\\\n",
       "\t141 & 140 & 901904 & psa & False &  32 & Wednesday & 19\\\\\n",
       "\t158 & 157 & 902234 & psa & False & 105 & Tuesday   & 19\\\\\n",
       "\t168 & 167 & 906079 & psa & False &  37 & Monday    & 10\\\\\n",
       "\\end{tabular}\n"
      ],
      "text/markdown": [
       "\n",
       "A data.frame: 6 × 7\n",
       "\n",
       "| <!--/--> | X &lt;int&gt; | user.id &lt;int&gt; | test.group &lt;chr&gt; | converted &lt;chr&gt; | total.ads &lt;int&gt; | most.ads.day &lt;chr&gt; | most.ads.hour &lt;int&gt; |\n",
       "|---|---|---|---|---|---|---|---|\n",
       "| 19 |  18 | 900681 | psa | False | 248 | Saturday  | 19 |\n",
       "| 39 |  38 | 905704 | psa | False |  27 | Thursday  |  8 |\n",
       "| 69 |  68 | 904595 | psa | False |  13 | Tuesday   | 19 |\n",
       "| 141 | 140 | 901904 | psa | False |  32 | Wednesday | 19 |\n",
       "| 158 | 157 | 902234 | psa | False | 105 | Tuesday   | 19 |\n",
       "| 168 | 167 | 906079 | psa | False |  37 | Monday    | 10 |\n",
       "\n"
      ],
      "text/plain": [
       "    X   user.id test.group converted total.ads most.ads.day most.ads.hour\n",
       "19   18 900681  psa        False     248       Saturday     19           \n",
       "39   38 905704  psa        False      27       Thursday      8           \n",
       "69   68 904595  psa        False      13       Tuesday      19           \n",
       "141 140 901904  psa        False      32       Wednesday    19           \n",
       "158 157 902234  psa        False     105       Tuesday      19           \n",
       "168 167 906079  psa        False      37       Monday       10           "
      ]
     },
     "metadata": {},
     "output_type": "display_data"
    }
   ],
   "source": [
    "indexes_control = which(data['test.group'] != 'ad')\n",
    "control_group <- data[indexes_control, ]\n",
    "head(control_group)"
   ]
  },
  {
   "cell_type": "code",
   "execution_count": 330,
   "id": "e1e4d42f",
   "metadata": {},
   "outputs": [
    {
     "name": "stderr",
     "output_type": "stream",
     "text": [
      "\u001b[1m\u001b[22m`summarise()` has grouped output by 'test.group'. You can override using the\n",
      "`.groups` argument.\n"
     ]
    }
   ],
   "source": [
    "#let's check that experiment was equal to both groups\n",
    "#at first let's check that the distribution of weekdays is similar between groups\n",
    "days <- data %>%\n",
    "        group_by(test.group, most.ads.day) %>%\n",
    "        summarise(n = n()) %>%\n",
    "        mutate(freq = n / sum(n))"
   ]
  },
  {
   "cell_type": "code",
   "execution_count": 343,
   "id": "a78c2306",
   "metadata": {},
   "outputs": [
    {
     "data": {
      "image/png": "[encoded data removed]",
      "text/plain": [
       "plot without title"
      ]
     },
     "metadata": {
      "image/png": {
       "height": 480,
       "width": 900
      }
     },
     "output_type": "display_data"
    }
   ],
   "source": [
    "#distribution between groups is similiar\n",
    "options(repr.plot.width=15, repr.plot.height=8)\n",
    "\n",
    "ggplot(days, aes(x = most.ads.day, y = freq, fill = test.group)) +\n",
    "geom_bar(stat = 'identity', position = 'dodge', alpha = 2/3)"
   ]
  },
  {
   "cell_type": "code",
   "execution_count": 332,
   "id": "28b68bb1",
   "metadata": {},
   "outputs": [],
   "source": [
    "#count success convertions for each group\n",
    "success <- data[which(data['converted'] == 'True'),] %>%\n",
    "        group_by(test.group) %>%\n",
    "        summarise(n = n())"
   ]
  },
  {
   "cell_type": "code",
   "execution_count": 333,
   "id": "dcd375bb",
   "metadata": {},
   "outputs": [],
   "source": [
    "#count total amount for each group\n",
    "total <- data %>%\n",
    "        group_by(test.group) %>%\n",
    "        summarise(n = n())"
   ]
  },
  {
   "cell_type": "code",
   "execution_count": 334,
   "id": "5419a411",
   "metadata": {},
   "outputs": [
    {
     "data": {
      "text/plain": [
       "\n",
       "\t2-sample test for equality of proportions without continuity\n",
       "\tcorrection\n",
       "\n",
       "data:  unlist(success[\"n\"]) out of unlist(total[\"n\"])\n",
       "X-squared = 54.3181, df = 1, p-value = 1.7053e-13\n",
       "alternative hypothesis: two.sided\n",
       "95 percent confidence interval:\n",
       " 0.0059509324 0.0094339740\n",
       "sample estimates:\n",
       "     prop 1      prop 2 \n",
       "0.025546560 0.017854106 \n"
      ]
     },
     "metadata": {},
     "output_type": "display_data"
    }
   ],
   "source": [
    "#p-value is significantly low, we reject hypothesis that the convertion rate is equal between test and control group\n",
    "#the effect of the advertisement is from 0.5% to 0.9%\n",
    "prop.test(x = unlist(success['n']), n = unlist(total['n']), cor = F)"
   ]
  },
  {
   "cell_type": "code",
   "execution_count": 335,
   "id": "7e26bf45",
   "metadata": {},
   "outputs": [
    {
     "data": {
      "text/html": [
       "24.7611375616392"
      ],
      "text/latex": [
       "24.7611375616392"
      ],
      "text/markdown": [
       "24.7611375616392"
      ],
      "text/plain": [
       "[1] 24.761138"
      ]
     },
     "metadata": {},
     "output_type": "display_data"
    },
    {
     "data": {
      "text/html": [
       "24.8233651034314"
      ],
      "text/latex": [
       "24.8233651034314"
      ],
      "text/markdown": [
       "24.8233651034314"
      ],
      "text/plain": [
       "[1] 24.823365"
      ]
     },
     "metadata": {},
     "output_type": "display_data"
    }
   ],
   "source": [
    "#however we have to be sure that groups are splitted without bias\n",
    "#there is a chance that treatment group see more ads on average and thus ads work better on this group\n",
    "#we can see that treatment group has more ads seen on average, let's figure out if it's stat significant\n",
    "mean(control_group$total.ads)\n",
    "mean(treatment_group$total.ads)"
   ]
  },
  {
   "cell_type": "code",
   "execution_count": 336,
   "id": "914dbe00",
   "metadata": {},
   "outputs": [
    {
     "data": {
      "text/plain": [
       "\n",
       "\tWelch Two Sample t-test\n",
       "\n",
       "data:  control_group$total.ads and treatment_group$total.ads\n",
       "t = -0.217997, df = 25607.8, p-value = 0.41372\n",
       "alternative hypothesis: true difference in means is less than 0\n",
       "95 percent confidence interval:\n",
       "       -Inf 0.40731535\n",
       "sample estimates:\n",
       "mean of x mean of y \n",
       "24.761138 24.823365 \n"
      ]
     },
     "metadata": {},
     "output_type": "display_data"
    }
   ],
   "source": [
    "#H0: avg number of ads seen are equal\n",
    "#p-value is high and we do not reject hypothesis\n",
    "t.test(control_group$total.ads, treatment_group$total.ads, alternative = \"less\", var.equal = FALSE)"
   ]
  },
  {
   "cell_type": "code",
   "execution_count": 337,
   "id": "a18fafc9",
   "metadata": {},
   "outputs": [],
   "source": [
    "#let's assume there are small samples and we are pretty unsure about normality of the sample mean\n",
    "#for that let's randomly select 100 rows from each group, assuming test had 200 participants\n",
    "X_test <- as.vector(data$total.ads[data$test.group == 'ad'])\n",
    "X_control <- as.vector(data$total.ads[data$test.group == 'psa'])\n",
    "small_test = sample(X_test, 100, replace = FALSE)\n",
    "small_control = sample(X_control, 100, replace = FALSE)"
   ]
  },
  {
   "cell_type": "code",
   "execution_count": 338,
   "id": "b2e1d835",
   "metadata": {},
   "outputs": [
    {
     "name": "stdout",
     "output_type": "stream",
     "text": [
      "\n",
      "\tWelch Two Sample t-test\n",
      "\n",
      "data:  small_control and small_test\n",
      "t = -0.301115, df = 168.745, p-value = 0.38185\n",
      "alternative hypothesis: true difference in means is less than 0\n",
      "95 percent confidence interval:\n",
      "      -Inf 7.8172924\n",
      "sample estimates:\n",
      "mean of x mean of y \n",
      "    24.86     26.60 \n",
      "\n"
     ]
    }
   ],
   "source": [
    "result_test <- t.test(small_control, small_test, alternative = \"less\", var.equal = FALSE)\n",
    "print(result_test)"
   ]
  },
  {
   "cell_type": "code",
   "execution_count": 339,
   "id": "03e30434",
   "metadata": {},
   "outputs": [],
   "source": [
    "#let's find bootstrap estimation for p-value\n",
    "\n",
    "p_test_function <- function(data_func, t_stat) {\n",
    "    \n",
    "    fake_test <- data_func[1:100]\n",
    "    fake_control <- data_func[100:200]\n",
    "\n",
    "    t_test <- t.test(fake_control, fake_test, alternative = \"less\", var.equal = FALSE)\n",
    "    \n",
    "    result <- if (t_test$statistic <= t_stat) {1}\n",
    "              else {0}\n",
    "    \n",
    "    return (result)\n",
    "}"
   ]
  },
  {
   "cell_type": "code",
   "execution_count": 340,
   "id": "aa17a9d0",
   "metadata": {},
   "outputs": [],
   "source": [
    "#bootstrap simulation with 100000\n",
    "#combining 2 samples into 1 which represents population and simulate the same test assuming H0 is true\n",
    "#count how many times it gives result as extreme as ours \n",
    "B <- 100000\n",
    "bootstrap_result <- replicate(B, {\n",
    "  X <- c(small_test, small_control)\n",
    "  N <- 200\n",
    "  samp <- sample(X, N, replace = TRUE)\n",
    "  p_test_function(samp, result_test$statistic)\n",
    "})"
   ]
  },
  {
   "cell_type": "code",
   "execution_count": 341,
   "id": "8396c419",
   "metadata": {},
   "outputs": [
    {
     "data": {
      "text/html": [
       "0.38872"
      ],
      "text/latex": [
       "0.38872"
      ],
      "text/markdown": [
       "0.38872"
      ],
      "text/plain": [
       "[1] 0.38872"
      ]
     },
     "metadata": {},
     "output_type": "display_data"
    }
   ],
   "source": [
    "#bootstrap estimation of 100000 samples tells us that p-value is 0.38872\n",
    "#so we have even less motivation to reject H0: equal amount of ads seen\n",
    "sum(bootstrap_result)/B"
   ]
  },
  {
   "cell_type": "code",
   "execution_count": 342,
   "id": "f25b3e38",
   "metadata": {},
   "outputs": [],
   "source": [
    "#conclusion: there are no reasons to think that test was biased in terms of groups/timings\n",
    "#with that in mind, there is significant difference between test and treatment group\n",
    "#it's reasonable to believe that the effect of the advertisement is from 0.5% to 0.9%"
   ]
  }
 ],
 "metadata": {
  "kernelspec": {
   "display_name": "R",
   "language": "R",
   "name": "ir"
  },
  "language_info": {
   "codemirror_mode": "r",
   "file_extension": ".r",
   "mimetype": "text/x-r-source",
   "name": "R",
   "pygments_lexer": "r",
   "version": "4.1.0"
  }
 },
 "nbformat": 4,
 "nbformat_minor": 5
}
